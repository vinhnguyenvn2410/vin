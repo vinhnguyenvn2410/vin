{
 "cells": [
  {
   "cell_type": "code",
   "execution_count": 124,
   "metadata": {
    "collapsed": true
   },
   "outputs": [],
   "source": [
    "import pandas as pd\n",
    "import numpy as np\n",
    "import os\n",
    "import matplotlib.pyplot as plt\n",
    "import datetime"
   ]
  },
  {
   "cell_type": "code",
   "execution_count": 125,
   "metadata": {
    "collapsed": true
   },
   "outputs": [],
   "source": [
    "#Import Facebook Prophet \n",
    "#pip install fbprophet in cmd\n",
    "#if does work, conda install -c conda-forge fbprophet then install prophet again\n",
    "from fbprophet import Prophet"
   ]
  },
  {
   "cell_type": "code",
   "execution_count": 126,
   "metadata": {
    "collapsed": true
   },
   "outputs": [],
   "source": [
    "os.chdir('C:/Users/vinhn/Downloads')"
   ]
  },
  {
   "cell_type": "code",
   "execution_count": 127,
   "metadata": {
    "collapsed": true
   },
   "outputs": [],
   "source": [
    "train = pd.read_csv('Train_SU63ISt.csv')\n",
    "test = pd.read_csv('Test_0qrQsBZ.csv')"
   ]
  },
  {
   "cell_type": "code",
   "execution_count": 128,
   "metadata": {
    "collapsed": true
   },
   "outputs": [],
   "source": [
    "#Similar to Lubridate in R, datetime package could help with time data\n",
    "#turning data into date-time format\n",
    "train['Datetime'] = pd.to_datetime(train.Datetime, format = '%d-%m-%Y %H:%M')\n",
    "test['Datetime'] = pd.to_datetime(test.Datetime, format = '%d-%m-%Y %H:%M')\n",
    "train['hour'] =  train.Datetime.dt.hour"
   ]
  },
  {
   "cell_type": "code",
   "execution_count": 129,
   "metadata": {},
   "outputs": [
    {
     "data": {
      "text/html": [
       "<div>\n",
       "<style scoped>\n",
       "    .dataframe tbody tr th:only-of-type {\n",
       "        vertical-align: middle;\n",
       "    }\n",
       "\n",
       "    .dataframe tbody tr th {\n",
       "        vertical-align: top;\n",
       "    }\n",
       "\n",
       "    .dataframe thead th {\n",
       "        text-align: right;\n",
       "    }\n",
       "</style>\n",
       "<table border=\"1\" class=\"dataframe\">\n",
       "  <thead>\n",
       "    <tr style=\"text-align: right;\">\n",
       "      <th></th>\n",
       "      <th>ID</th>\n",
       "      <th>Datetime</th>\n",
       "      <th>Count</th>\n",
       "      <th>hour</th>\n",
       "    </tr>\n",
       "  </thead>\n",
       "  <tbody>\n",
       "    <tr>\n",
       "      <th>0</th>\n",
       "      <td>0</td>\n",
       "      <td>2012-08-25 00:00:00</td>\n",
       "      <td>8</td>\n",
       "      <td>0</td>\n",
       "    </tr>\n",
       "    <tr>\n",
       "      <th>1</th>\n",
       "      <td>1</td>\n",
       "      <td>2012-08-25 01:00:00</td>\n",
       "      <td>2</td>\n",
       "      <td>1</td>\n",
       "    </tr>\n",
       "    <tr>\n",
       "      <th>2</th>\n",
       "      <td>2</td>\n",
       "      <td>2012-08-25 02:00:00</td>\n",
       "      <td>6</td>\n",
       "      <td>2</td>\n",
       "    </tr>\n",
       "    <tr>\n",
       "      <th>3</th>\n",
       "      <td>3</td>\n",
       "      <td>2012-08-25 03:00:00</td>\n",
       "      <td>2</td>\n",
       "      <td>3</td>\n",
       "    </tr>\n",
       "    <tr>\n",
       "      <th>4</th>\n",
       "      <td>4</td>\n",
       "      <td>2012-08-25 04:00:00</td>\n",
       "      <td>2</td>\n",
       "      <td>4</td>\n",
       "    </tr>\n",
       "  </tbody>\n",
       "</table>\n",
       "</div>"
      ],
      "text/plain": [
       "   ID            Datetime  Count  hour\n",
       "0   0 2012-08-25 00:00:00      8     0\n",
       "1   1 2012-08-25 01:00:00      2     1\n",
       "2   2 2012-08-25 02:00:00      6     2\n",
       "3   3 2012-08-25 03:00:00      2     3\n",
       "4   4 2012-08-25 04:00:00      2     4"
      ]
     },
     "execution_count": 129,
     "metadata": {},
     "output_type": "execute_result"
    }
   ],
   "source": [
    "train.head()"
   ]
  },
  {
   "cell_type": "code",
   "execution_count": 130,
   "metadata": {},
   "outputs": [
    {
     "data": {
      "image/png": "[encoded data removed]",
      "text/plain": [
       "<Figure size 432x288 with 1 Axes>"
      ]
     },
     "metadata": {},
     "output_type": "display_data"
    }
   ],
   "source": [
    "train['Count'].plot()\n",
    "plt.show()"
   ]
  },
  {
   "cell_type": "code",
   "execution_count": 131,
   "metadata": {
    "collapsed": true
   },
   "outputs": [],
   "source": [
    "#calculate average hourly fraction to reduce noise from the data\n",
    "hourly_frac = train.groupby(['hour']).mean()/np.sum(train.groupby(['hour']).mean())"
   ]
  },
  {
   "cell_type": "code",
   "execution_count": 132,
   "metadata": {
    "collapsed": true
   },
   "outputs": [],
   "source": [
    "#drop index col and replace with col name to 'fraction'\n",
    "hourly_frac.drop(['ID'], axis = 1, inplace = True)\n",
    "hourly_frac.columns = ['fraction']"
   ]
  },
  {
   "cell_type": "code",
   "execution_count": 133,
   "metadata": {
    "collapsed": true
   },
   "outputs": [],
   "source": [
    "#convert to time series from dataframe\n",
    "train.index = train.Datetime #setting index\n",
    "train.drop(['ID','hour','Datetime'], axis = 1, inplace = True)"
   ]
  },
  {
   "cell_type": "code",
   "execution_count": 134,
   "metadata": {
    "collapsed": true
   },
   "outputs": [],
   "source": [
    "#group_by day\n",
    "daily_train = train.resample('D').sum()"
   ]
  },
  {
   "cell_type": "code",
   "execution_count": 135,
   "metadata": {},
   "outputs": [
    {
     "data": {
      "text/html": [
       "<div>\n",
       "<style scoped>\n",
       "    .dataframe tbody tr th:only-of-type {\n",
       "        vertical-align: middle;\n",
       "    }\n",
       "\n",
       "    .dataframe tbody tr th {\n",
       "        vertical-align: top;\n",
       "    }\n",
       "\n",
       "    .dataframe thead th {\n",
       "        text-align: right;\n",
       "    }\n",
       "</style>\n",
       "<table border=\"1\" class=\"dataframe\">\n",
       "  <thead>\n",
       "    <tr style=\"text-align: right;\">\n",
       "      <th></th>\n",
       "      <th>Count</th>\n",
       "    </tr>\n",
       "    <tr>\n",
       "      <th>Datetime</th>\n",
       "      <th></th>\n",
       "    </tr>\n",
       "  </thead>\n",
       "  <tbody>\n",
       "    <tr>\n",
       "      <th>2012-08-25</th>\n",
       "      <td>76</td>\n",
       "    </tr>\n",
       "    <tr>\n",
       "      <th>2012-08-26</th>\n",
       "      <td>88</td>\n",
       "    </tr>\n",
       "    <tr>\n",
       "      <th>2012-08-27</th>\n",
       "      <td>62</td>\n",
       "    </tr>\n",
       "    <tr>\n",
       "      <th>2012-08-28</th>\n",
       "      <td>58</td>\n",
       "    </tr>\n",
       "    <tr>\n",
       "      <th>2012-08-29</th>\n",
       "      <td>60</td>\n",
       "    </tr>\n",
       "  </tbody>\n",
       "</table>\n",
       "</div>"
      ],
      "text/plain": [
       "            Count\n",
       "Datetime         \n",
       "2012-08-25     76\n",
       "2012-08-26     88\n",
       "2012-08-27     62\n",
       "2012-08-28     58\n",
       "2012-08-29     60"
      ]
     },
     "execution_count": 135,
     "metadata": {},
     "output_type": "execute_result"
    }
   ],
   "source": [
    "#help your unstanding\n",
    "daily_train.head()"
   ]
  },
  {
   "cell_type": "code",
   "execution_count": 136,
   "metadata": {},
   "outputs": [
    {
     "data": {
      "text/plain": [
       "'Prophet requires the variable names in the time series to be:\\n\\ny – Target\\nds – Datetime\\nSo, the next step is to convert the dataframe according to the above specifications'"
      ]
     },
     "execution_count": 136,
     "metadata": {},
     "output_type": "execute_result"
    }
   ],
   "source": [
    "'''Prophet requires the variable names in the time series to be:\n",
    "\n",
    "y – Target\n",
    "ds – Datetime\n",
    "So, the next step is to convert the dataframe according to the above specifications'''"
   ]
  },
  {
   "cell_type": "code",
   "execution_count": 137,
   "metadata": {
    "collapsed": true
   },
   "outputs": [],
   "source": [
    "daily_train['ds']= daily_train.index\n",
    "daily_train['y'] = daily_train.Count\n",
    "#drop Count col since we have y col\n",
    "daily_train.drop(['Count'], axis =1, inplace = True)"
   ]
  },
  {
   "cell_type": "code",
   "execution_count": 138,
   "metadata": {},
   "outputs": [
    {
     "data": {
      "text/html": [
       "<div>\n",
       "<style scoped>\n",
       "    .dataframe tbody tr th:only-of-type {\n",
       "        vertical-align: middle;\n",
       "    }\n",
       "\n",
       "    .dataframe tbody tr th {\n",
       "        vertical-align: top;\n",
       "    }\n",
       "\n",
       "    .dataframe thead th {\n",
       "        text-align: right;\n",
       "    }\n",
       "</style>\n",
       "<table border=\"1\" class=\"dataframe\">\n",
       "  <thead>\n",
       "    <tr style=\"text-align: right;\">\n",
       "      <th></th>\n",
       "      <th>ds</th>\n",
       "      <th>y</th>\n",
       "    </tr>\n",
       "    <tr>\n",
       "      <th>Datetime</th>\n",
       "      <th></th>\n",
       "      <th></th>\n",
       "    </tr>\n",
       "  </thead>\n",
       "  <tbody>\n",
       "    <tr>\n",
       "      <th>2014-09-21</th>\n",
       "      <td>2014-09-21</td>\n",
       "      <td>9102</td>\n",
       "    </tr>\n",
       "    <tr>\n",
       "      <th>2014-09-22</th>\n",
       "      <td>2014-09-22</td>\n",
       "      <td>14116</td>\n",
       "    </tr>\n",
       "    <tr>\n",
       "      <th>2014-09-23</th>\n",
       "      <td>2014-09-23</td>\n",
       "      <td>13304</td>\n",
       "    </tr>\n",
       "    <tr>\n",
       "      <th>2014-09-24</th>\n",
       "      <td>2014-09-24</td>\n",
       "      <td>16856</td>\n",
       "    </tr>\n",
       "    <tr>\n",
       "      <th>2014-09-25</th>\n",
       "      <td>2014-09-25</td>\n",
       "      <td>14152</td>\n",
       "    </tr>\n",
       "  </tbody>\n",
       "</table>\n",
       "</div>"
      ],
      "text/plain": [
       "                   ds      y\n",
       "Datetime                    \n",
       "2014-09-21 2014-09-21   9102\n",
       "2014-09-22 2014-09-22  14116\n",
       "2014-09-23 2014-09-23  13304\n",
       "2014-09-24 2014-09-24  16856\n",
       "2014-09-25 2014-09-25  14152"
      ]
     },
     "execution_count": 138,
     "metadata": {},
     "output_type": "execute_result"
    }
   ],
   "source": [
    "#quick look at the df before we fit the model\n",
    "daily_train.tail() #looks gud"
   ]
  },
  {
   "cell_type": "code",
   "execution_count": 139,
   "metadata": {},
   "outputs": [
    {
     "name": "stderr",
     "output_type": "stream",
     "text": [
      "INFO:fbprophet.forecaster:Disabling daily seasonality. Run prophet with daily_seasonality=True to override this.\n",
      "C:\\Users\\vinhn\\Anaconda3\\lib\\site-packages\\pystan\\misc.py:399: FutureWarning: Conversion of the second argument of issubdtype from `float` to `np.floating` is deprecated. In future, it will be treated as `np.float64 == np.dtype(float).type`.\n",
      "  elif np.issubdtype(np.asarray(v).dtype, float):\n"
     ]
    }
   ],
   "source": [
    "#Fitting the FB Prophet model\n",
    "m = Prophet(yearly_seasonality = True, seasonality_prior_scale = 0.1)\n",
    "m.fit(daily_train)\n",
    "future = m.make_future_dataframe(periods = 213)\n",
    "forecast = m.predict(future)"
   ]
  },
  {
   "cell_type": "code",
   "execution_count": 140,
   "metadata": {
    "scrolled": true
   },
   "outputs": [
    {
     "data": {
      "image/png": "[encoded data removed]",
      "text/plain": [
       "<Figure size 648x648 with 3 Axes>"
      ]
     },
     "execution_count": 140,
     "metadata": {},
     "output_type": "execute_result"
    }
   ],
   "source": [
    "m.plot_components(forecast)"
   ]
  },
  {
   "cell_type": "code",
   "execution_count": 143,
   "metadata": {},
   "outputs": [],
   "source": [
    "# Extract hour, day, month and year from both dataframes to merge\n",
    "for df in [test]:\n",
    "    df['hour'] = df.Datetime.dt.hour\n",
    "    df['day'] = df.Datetime.dt.day\n",
    "    df['month'] = df.Datetime.dt.month\n",
    "    df['year'] = df.Datetime.dt.year"
   ]
  },
  {
   "cell_type": "code",
   "execution_count": 144,
   "metadata": {
    "collapsed": true
   },
   "outputs": [],
   "source": [
    "for df in [forecast]:\n",
    "    df['hour'] = df.ds.dt.hour\n",
    "    df['day'] = df.ds.dt.day\n",
    "    df['month'] = df.ds.dt.month\n",
    "    df['year'] = df.ds.dt.year"
   ]
  },
  {
   "cell_type": "code",
   "execution_count": 148,
   "metadata": {},
   "outputs": [],
   "source": [
    "forecast.drop('hour', axis = 1, inplace= True)"
   ]
  },
  {
   "cell_type": "code",
   "execution_count": 149,
   "metadata": {
    "collapsed": true
   },
   "outputs": [],
   "source": [
    "# Merge forecasts with given IDs\n",
    "test = pd.merge(test,forecast, on=['day','month','year'], how='left')\n",
    "cols = ['ID','hour','yhat']\n",
    "test_new = test[cols]"
   ]
  },
  {
   "cell_type": "code",
   "execution_count": 155,
   "metadata": {},
   "outputs": [
    {
     "data": {
      "text/html": [
       "<div>\n",
       "<style scoped>\n",
       "    .dataframe tbody tr th:only-of-type {\n",
       "        vertical-align: middle;\n",
       "    }\n",
       "\n",
       "    .dataframe tbody tr th {\n",
       "        vertical-align: top;\n",
       "    }\n",
       "\n",
       "    .dataframe thead th {\n",
       "        text-align: right;\n",
       "    }\n",
       "</style>\n",
       "<table border=\"1\" class=\"dataframe\">\n",
       "  <thead>\n",
       "    <tr style=\"text-align: right;\">\n",
       "      <th></th>\n",
       "      <th>ID</th>\n",
       "      <th>Datetime</th>\n",
       "      <th>hour</th>\n",
       "      <th>day</th>\n",
       "      <th>month</th>\n",
       "      <th>year</th>\n",
       "      <th>ds</th>\n",
       "      <th>trend</th>\n",
       "      <th>yhat_lower</th>\n",
       "      <th>yhat_upper</th>\n",
       "      <th>...</th>\n",
       "      <th>weekly</th>\n",
       "      <th>weekly_lower</th>\n",
       "      <th>weekly_upper</th>\n",
       "      <th>yearly</th>\n",
       "      <th>yearly_lower</th>\n",
       "      <th>yearly_upper</th>\n",
       "      <th>multiplicative_terms</th>\n",
       "      <th>multiplicative_terms_lower</th>\n",
       "      <th>multiplicative_terms_upper</th>\n",
       "      <th>yhat</th>\n",
       "    </tr>\n",
       "  </thead>\n",
       "  <tbody>\n",
       "    <tr>\n",
       "      <th>0</th>\n",
       "      <td>18288</td>\n",
       "      <td>2014-09-26 00:00:00</td>\n",
       "      <td>0</td>\n",
       "      <td>26</td>\n",
       "      <td>9</td>\n",
       "      <td>2014</td>\n",
       "      <td>2014-09-26</td>\n",
       "      <td>10520.686919</td>\n",
       "      <td>10266.563343</td>\n",
       "      <td>12698.597554</td>\n",
       "      <td>...</td>\n",
       "      <td>155.993137</td>\n",
       "      <td>155.993137</td>\n",
       "      <td>155.993137</td>\n",
       "      <td>832.132392</td>\n",
       "      <td>832.132392</td>\n",
       "      <td>832.132392</td>\n",
       "      <td>0.0</td>\n",
       "      <td>0.0</td>\n",
       "      <td>0.0</td>\n",
       "      <td>11508.812447</td>\n",
       "    </tr>\n",
       "    <tr>\n",
       "      <th>1</th>\n",
       "      <td>18289</td>\n",
       "      <td>2014-09-26 01:00:00</td>\n",
       "      <td>1</td>\n",
       "      <td>26</td>\n",
       "      <td>9</td>\n",
       "      <td>2014</td>\n",
       "      <td>2014-09-26</td>\n",
       "      <td>10520.686919</td>\n",
       "      <td>10266.563343</td>\n",
       "      <td>12698.597554</td>\n",
       "      <td>...</td>\n",
       "      <td>155.993137</td>\n",
       "      <td>155.993137</td>\n",
       "      <td>155.993137</td>\n",
       "      <td>832.132392</td>\n",
       "      <td>832.132392</td>\n",
       "      <td>832.132392</td>\n",
       "      <td>0.0</td>\n",
       "      <td>0.0</td>\n",
       "      <td>0.0</td>\n",
       "      <td>11508.812447</td>\n",
       "    </tr>\n",
       "    <tr>\n",
       "      <th>2</th>\n",
       "      <td>18290</td>\n",
       "      <td>2014-09-26 02:00:00</td>\n",
       "      <td>2</td>\n",
       "      <td>26</td>\n",
       "      <td>9</td>\n",
       "      <td>2014</td>\n",
       "      <td>2014-09-26</td>\n",
       "      <td>10520.686919</td>\n",
       "      <td>10266.563343</td>\n",
       "      <td>12698.597554</td>\n",
       "      <td>...</td>\n",
       "      <td>155.993137</td>\n",
       "      <td>155.993137</td>\n",
       "      <td>155.993137</td>\n",
       "      <td>832.132392</td>\n",
       "      <td>832.132392</td>\n",
       "      <td>832.132392</td>\n",
       "      <td>0.0</td>\n",
       "      <td>0.0</td>\n",
       "      <td>0.0</td>\n",
       "      <td>11508.812447</td>\n",
       "    </tr>\n",
       "    <tr>\n",
       "      <th>3</th>\n",
       "      <td>18291</td>\n",
       "      <td>2014-09-26 03:00:00</td>\n",
       "      <td>3</td>\n",
       "      <td>26</td>\n",
       "      <td>9</td>\n",
       "      <td>2014</td>\n",
       "      <td>2014-09-26</td>\n",
       "      <td>10520.686919</td>\n",
       "      <td>10266.563343</td>\n",
       "      <td>12698.597554</td>\n",
       "      <td>...</td>\n",
       "      <td>155.993137</td>\n",
       "      <td>155.993137</td>\n",
       "      <td>155.993137</td>\n",
       "      <td>832.132392</td>\n",
       "      <td>832.132392</td>\n",
       "      <td>832.132392</td>\n",
       "      <td>0.0</td>\n",
       "      <td>0.0</td>\n",
       "      <td>0.0</td>\n",
       "      <td>11508.812447</td>\n",
       "    </tr>\n",
       "    <tr>\n",
       "      <th>4</th>\n",
       "      <td>18292</td>\n",
       "      <td>2014-09-26 04:00:00</td>\n",
       "      <td>4</td>\n",
       "      <td>26</td>\n",
       "      <td>9</td>\n",
       "      <td>2014</td>\n",
       "      <td>2014-09-26</td>\n",
       "      <td>10520.686919</td>\n",
       "      <td>10266.563343</td>\n",
       "      <td>12698.597554</td>\n",
       "      <td>...</td>\n",
       "      <td>155.993137</td>\n",
       "      <td>155.993137</td>\n",
       "      <td>155.993137</td>\n",
       "      <td>832.132392</td>\n",
       "      <td>832.132392</td>\n",
       "      <td>832.132392</td>\n",
       "      <td>0.0</td>\n",
       "      <td>0.0</td>\n",
       "      <td>0.0</td>\n",
       "      <td>11508.812447</td>\n",
       "    </tr>\n",
       "  </tbody>\n",
       "</table>\n",
       "<p>5 rows × 25 columns</p>\n",
       "</div>"
      ],
      "text/plain": [
       "      ID            Datetime  hour  day  month  year         ds         trend  \\\n",
       "0  18288 2014-09-26 00:00:00     0   26      9  2014 2014-09-26  10520.686919   \n",
       "1  18289 2014-09-26 01:00:00     1   26      9  2014 2014-09-26  10520.686919   \n",
       "2  18290 2014-09-26 02:00:00     2   26      9  2014 2014-09-26  10520.686919   \n",
       "3  18291 2014-09-26 03:00:00     3   26      9  2014 2014-09-26  10520.686919   \n",
       "4  18292 2014-09-26 04:00:00     4   26      9  2014 2014-09-26  10520.686919   \n",
       "\n",
       "     yhat_lower    yhat_upper      ...           weekly  weekly_lower  \\\n",
       "0  10266.563343  12698.597554      ...       155.993137    155.993137   \n",
       "1  10266.563343  12698.597554      ...       155.993137    155.993137   \n",
       "2  10266.563343  12698.597554      ...       155.993137    155.993137   \n",
       "3  10266.563343  12698.597554      ...       155.993137    155.993137   \n",
       "4  10266.563343  12698.597554      ...       155.993137    155.993137   \n",
       "\n",
       "   weekly_upper      yearly  yearly_lower  yearly_upper  multiplicative_terms  \\\n",
       "0    155.993137  832.132392    832.132392    832.132392                   0.0   \n",
       "1    155.993137  832.132392    832.132392    832.132392                   0.0   \n",
       "2    155.993137  832.132392    832.132392    832.132392                   0.0   \n",
       "3    155.993137  832.132392    832.132392    832.132392                   0.0   \n",
       "4    155.993137  832.132392    832.132392    832.132392                   0.0   \n",
       "\n",
       "   multiplicative_terms_lower  multiplicative_terms_upper          yhat  \n",
       "0                         0.0                         0.0  11508.812447  \n",
       "1                         0.0                         0.0  11508.812447  \n",
       "2                         0.0                         0.0  11508.812447  \n",
       "3                         0.0                         0.0  11508.812447  \n",
       "4                         0.0                         0.0  11508.812447  \n",
       "\n",
       "[5 rows x 25 columns]"
      ]
     },
     "execution_count": 155,
     "metadata": {},
     "output_type": "execute_result"
    }
   ],
   "source": [
    "test.head()"
   ]
  },
  {
   "cell_type": "code",
   "execution_count": 151,
   "metadata": {
    "collapsed": true
   },
   "outputs": [],
   "source": [
    "\n",
    "\n",
    "\n",
    "# Merging hourly average fraction to the test data\n",
    "test_new = pd.merge(test_new, hourly_frac, left_on = ['hour'], right_index=True, how = 'left')\n",
    "# Convert daily aggregate to hourly traffic\n",
    "test_new['Count'] = test_new['yhat'] * test_new['fraction']\n",
    "test_new.drop(['yhat','fraction','hour'],axis = 1, inplace = True)\n",
    "test_new.to_csv('prophet_sub.csv',index = False)\n"
   ]
  },
  {
   "cell_type": "code",
   "execution_count": 159,
   "metadata": {
    "scrolled": false
   },
   "outputs": [
    {
     "data": {
      "image/png": "[encoded data removed]",
      "text/plain": [
       "<Figure size 432x288 with 1 Axes>"
      ]
     },
     "metadata": {},
     "output_type": "display_data"
    }
   ],
   "source": [
    "#plot upper yhat, yhat and lower yhat with test dates.\n",
    "plt.plot_date(test['ds'],test['yhat'])\n",
    "plt.show()"
   ]
  },
  {
   "cell_type": "code",
   "execution_count": null,
   "metadata": {
    "collapsed": true
   },
   "outputs": [],
   "source": []
  }
 ],
 "metadata": {
  "kernelspec": {
   "display_name": "Python 3",
   "language": "python",
   "name": "python3"
  },
  "language_info": {
   "codemirror_mode": {
    "name": "ipython",
    "version": 3
   },
   "file_extension": ".py",
   "mimetype": "text/x-python",
   "name": "python",
   "nbconvert_exporter": "python",
   "pygments_lexer": "ipython3",
   "version": "3.6.3"
  }
 },
 "nbformat": 4,
 "nbformat_minor": 2
}
